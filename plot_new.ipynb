{
 "cells": [
  {
   "cell_type": "code",
   "execution_count": 22,
   "metadata": {},
   "outputs": [],
   "source": [
    "import matplotlib.pyplot as plt\n",
    "import numpy as np\n",
    "import torch\n",
    "from vae import VAE, Encoder, Decoder, DATA_DIM, MAX_SEQ_LEN, PITCH_DIM\n",
    "\n",
    "demo_load_path = 'datasets/Demo_64_conditioned.npy'\n",
    "start_samples = np.load(demo_load_path)\n",
    "# start_samples = np.array(np.round(samples, decimals=0), dtype=int)\n",
    "start_samples = np.array(start_samples, dtype=float) # / 127.\n",
    "start_samples = np.squeeze(start_samples)"
   ]
  },
  {
   "cell_type": "code",
   "execution_count": 23,
   "metadata": {},
   "outputs": [
    {
     "data": {
      "text/plain": [
       "array([[[  0.,   0.,   0., ...,   0., 127.,   0.],\n",
       "        [  0.,   0.,   0., ...,   0., 127.,   0.],\n",
       "        [  0.,   0.,   0., ...,   0., 127.,   0.],\n",
       "        ...,\n",
       "        [  0.,   0.,   0., ...,   0.,   0.,   0.],\n",
       "        [  0.,   0.,   0., ...,   0.,   0.,   0.],\n",
       "        [  0.,   0.,   0., ...,   0.,   0.,   0.]],\n",
       "\n",
       "       [[  0.,   0.,   0., ...,   0.,   0.,   0.],\n",
       "        [  0.,   0.,   0., ...,   0.,   0.,   0.],\n",
       "        [  0.,   0.,   0., ...,   0.,   0.,   0.],\n",
       "        ...,\n",
       "        [  0.,   0.,   0., ...,   0.,   0.,   0.],\n",
       "        [  0.,   0.,   0., ...,   0.,   0.,   0.],\n",
       "        [  0.,   0.,   0., ...,   0.,   0.,   0.]],\n",
       "\n",
       "       [[  0.,   0.,   0., ...,   0.,   0.,   0.],\n",
       "        [  0.,   0.,   0., ...,   0.,   0.,   0.],\n",
       "        [  0.,   0.,   0., ...,   0.,   0.,   0.],\n",
       "        ...,\n",
       "        [  0.,   0.,   0., ...,   0.,   0.,   0.],\n",
       "        [  0.,   0.,   0., ...,   0.,   0.,   0.],\n",
       "        [  0.,   0.,   0., ...,   0.,   0.,   0.]],\n",
       "\n",
       "       ...,\n",
       "\n",
       "       [[  0.,   0.,   0., ...,   0.,   0.,   0.],\n",
       "        [  0.,   0.,   0., ...,   0.,   0.,   0.],\n",
       "        [  0.,   0.,   0., ...,   0.,   0.,   0.],\n",
       "        ...,\n",
       "        [  0.,   0.,   0., ...,   0.,   0.,   0.],\n",
       "        [  0.,   0.,   0., ...,   0.,   0.,   0.],\n",
       "        [  0.,   0.,   0., ...,   0.,   0.,   0.]],\n",
       "\n",
       "       [[  0.,   0.,   0., ...,   0.,   0.,   0.],\n",
       "        [  0.,   0.,   0., ...,   0.,   0.,   0.],\n",
       "        [  0.,   0.,   0., ...,   0.,   0.,   0.],\n",
       "        ...,\n",
       "        [  0.,   0.,   0., ...,   0.,   0.,   0.],\n",
       "        [  0.,   0.,   0., ...,   0.,   0.,   0.],\n",
       "        [  0.,   0.,   0., ...,   0.,   0.,   0.]],\n",
       "\n",
       "       [[  0.,   0.,   0., ...,   0.,   0.,   0.],\n",
       "        [  0.,   0.,   0., ...,   0.,   0.,   0.],\n",
       "        [  0.,   0.,   0., ...,   0.,   0.,   0.],\n",
       "        ...,\n",
       "        [  0.,   0.,   0., ...,   0.,   0.,   0.],\n",
       "        [  0.,   0.,   0., ...,   0.,   0.,   0.],\n",
       "        [  0.,   0.,   0., ...,   0.,   0.,   0.]]])"
      ]
     },
     "execution_count": 23,
     "metadata": {},
     "output_type": "execute_result"
    }
   ],
   "source": [
    "start_samples"
   ]
  },
  {
   "cell_type": "code",
   "execution_count": 24,
   "metadata": {},
   "outputs": [
    {
     "data": {
      "text/plain": [
       "(12, 128, 90)"
      ]
     },
     "execution_count": 24,
     "metadata": {},
     "output_type": "execute_result"
    }
   ],
   "source": [
    "start_samples.shape"
   ]
  },
  {
   "cell_type": "code",
   "execution_count": 27,
   "metadata": {},
   "outputs": [
    {
     "data": {
      "text/plain": [
       "Text(0.5, 1.0, 'Training data')"
      ]
     },
     "execution_count": 27,
     "metadata": {},
     "output_type": "execute_result"
    },
    {
     "data": {
      "image/png": "[encoded data removed]",
      "text/plain": [
       "<Figure size 1440x360 with 1 Axes>"
      ]
     },
     "metadata": {
      "needs_background": "light"
     },
     "output_type": "display_data"
    }
   ],
   "source": [
    "sample = np.vstack(start_samples[8:][:,64:])\n",
    "\n",
    "sample0 = start_samples[0,64:] # Chopin\n",
    "sample1 = start_samples[4,64:] # Turkey\n",
    "sample2 = start_samples[8,64:] # Elise\n",
    "zero0 =  np.zeros_like(sample0)\n",
    "start0 = np.concatenate([np.zeros([MAX_SEQ_LEN, 88]), np.ones([MAX_SEQ_LEN, 1]), np.zeros([MAX_SEQ_LEN, 1])], axis=-1)\n",
    "start_seqs = np.stack([sample0, sample1, sample2, zero0, start0])\n",
    "# start_seqs = np.stack([zero0] * 10)\n",
    "\n",
    "plt.pcolor(sample0.T)\n",
    "plt.xlabel(\"Timestep\")\n",
    "plt.ylabel(\"Pitch\")\n",
    "plt.title(\"Training data\")"
   ]
  },
  {
   "cell_type": "code",
   "execution_count": 50,
   "metadata": {},
   "outputs": [],
   "source": [
    "def sample_vae_with_start(vae, start_seqs):\n",
    "    x = torch.zeros([1, DATA_DIM], dtype=torch.float)\n",
    "\n",
    "    if vae.use_cuda:\n",
    "        x = x.cuda()\n",
    "#         cond = cond.cuda()\n",
    "\n",
    "    samples_cond = []\n",
    "    for start_seq in start_seqs:\n",
    "        samples = []\n",
    "        samples.append(start_seq * 127.)\n",
    "        cond = torch.tensor(start_seq, dtype=torch.float).view(1, DATA_DIM)\n",
    "        if vae.use_cuda:\n",
    "            cond = cond.cuda()\n",
    "        \n",
    "        for rr in range(10):\n",
    "            # get loc from the model\n",
    "            sample_loc_i = vae.model(x, cond)\n",
    "            cond = sample_loc_i * 127.\n",
    "            sampled_data = sample_loc_i[0].view(MAX_SEQ_LEN, PITCH_DIM).cpu().data.numpy() * 127.\n",
    "            samples.append(sampled_data)\n",
    "            if vae.use_cuda:\n",
    "                cond = cond.cuda()\n",
    "        \n",
    "        samples = np.stack(samples)\n",
    "        samples_cond.append(samples)\n",
    "        \n",
    "    samples_cond = np.stack(samples_cond)\n",
    "    \n",
    "    return samples_cond\n",
    "\n",
    "\n",
    "# def sample_vae(vae, cuda):\n",
    "#     x = torch.zeros([1, DATA_DIM])\n",
    "#     # start = torch.cat(torch.zeros([1, MAX_SEQ_LEN, 88]) + torch.ones([1, MAX_SEQ_LEN, 1]) + torch.zeros([1, MAX_SEQ_LEN, 1]), dim=-1)\n",
    "#     start = torch.cat([torch.zeros(1, MAX_SEQ_LEN, 88), torch.ones(1, MAX_SEQ_LEN, 1), torch.zeros(1, MAX_SEQ_LEN, 1)], dim=-1)    \n",
    "\n",
    "#     if cuda:\n",
    "#         x = x.cuda()\n",
    "\n",
    "#     total_samples = []\n",
    "#     for i in range(10):\n",
    "#         samples = []\n",
    "#         cond = start.reshape(-1, MAX_SEQ_LEN * PITCH_DIM).cuda()\n",
    "#         for rr in range(20):\n",
    "#             # get loc from the model\n",
    "#             sample_loc_i = vae.model(x, cond)\n",
    "#             cond = sample_loc_i * MAX_VEL\n",
    "#             sampled_data = sample_loc_i[0].view(1, MAX_SEQ_LEN, PITCH_DIM).cpu().data.numpy() * MAX_VEL\n",
    "#             samples.append(sampled_data)\n",
    "#         total_samples.append(samples)\n",
    "    \n",
    "#     return total_samples"
   ]
  },
  {
   "cell_type": "code",
   "execution_count": 51,
   "metadata": {},
   "outputs": [],
   "source": [
    "def velmapping(x, xmin = 60, xmax = 127., ymin=0, ymax=127):\n",
    "    y = (x - xmin).clip(0) / (xmax - xmin) * (ymax - ymin) + ymin\n",
    "    return y"
   ]
  },
  {
   "cell_type": "code",
   "execution_count": 52,
   "metadata": {},
   "outputs": [],
   "source": [
    "vae = torch.load(\"outputs/MAESTRO_64_VAE_num_particle_16/best_model.pt\")\n",
    "sample = sample_vae_with_start(vae, start_seqs/127)\n",
    "sample = sample[:,:,:,:88]\n",
    "sample = velmapping(sample*127)"
   ]
  },
  {
   "cell_type": "code",
   "execution_count": 53,
   "metadata": {},
   "outputs": [
    {
     "data": {
      "text/plain": [
       "Text(0.5, 1.0, 'Generated Sample')"
      ]
     },
     "execution_count": 53,
     "metadata": {},
     "output_type": "execute_result"
    },
    {
     "data": {
      "image/png": "[encoded data removed]",
      "text/plain": [
       "<Figure size 1440x360 with 1 Axes>"
      ]
     },
     "metadata": {
      "needs_background": "light"
     },
     "output_type": "display_data"
    }
   ],
   "source": [
    "# generated = velmapping(np.vstack(sample[0]))\n",
    "generated = np.vstack(sample[0])\n",
    "plt.rcParams['figure.figsize'] = [20, 5]\n",
    "plt.pcolor(generated.T, cmap='cividis')\n",
    "plt.xlabel(\"Timestep\")\n",
    "plt.ylabel(\"Pitch\")\n",
    "plt.title(\"Generated Sample\")"
   ]
  },
  {
   "cell_type": "code",
   "execution_count": 54,
   "metadata": {},
   "outputs": [],
   "source": [
    "generated_sample_save = np.vstack(sample)"
   ]
  },
  {
   "cell_type": "code",
   "execution_count": 527,
   "metadata": {},
   "outputs": [],
   "source": [
    "np.save(\"generated_start_iwae\", generated_sample_save)"
   ]
  },
  {
   "cell_type": "code",
   "execution_count": 526,
   "metadata": {},
   "outputs": [
    {
     "data": {
      "text/plain": [
       "Text(0.5, 1.0, 'Training data')"
      ]
     },
     "execution_count": 526,
     "metadata": {},
     "output_type": "execute_result"
    },
    {
     "data": {
      "image/png": "[encoded data removed]",
      "text/plain": [
       "<Figure size 1440x360 with 1 Axes>"
      ]
     },
     "metadata": {
      "needs_background": "light"
     },
     "output_type": "display_data"
    }
   ],
   "source": [
    "datasample0 = np.vstack(start_samples[0:4,64:]) # Chopin\n",
    "datasample1 = np.vstack(start_samples[4:8,64:]) # Turkey\n",
    "datasample2 = np.vstack(start_samples[8:,64:]) # Elise\n",
    "\n",
    "plt.pcolor(datasample0.T, cmap='cividis')\n",
    "plt.xlabel(\"Timestep\")\n",
    "plt.ylabel(\"Pitch\")\n",
    "plt.title(\"Training data\")"
   ]
  },
  {
   "cell_type": "code",
   "execution_count": 461,
   "metadata": {},
   "outputs": [],
   "source": [
    "training_data = np.vstack(start_samples)"
   ]
  },
  {
   "cell_type": "code",
   "execution_count": 482,
   "metadata": {},
   "outputs": [],
   "source": [
    "np.save(\"training\", start_samples)"
   ]
  },
  {
   "cell_type": "code",
   "execution_count": 474,
   "metadata": {},
   "outputs": [],
   "source": [
    "from midi_extractor.write_midi import write_midi"
   ]
  },
  {
   "cell_type": "code",
   "execution_count": 531,
   "metadata": {},
   "outputs": [],
   "source": [
    "def np_to_midi(name, tpb=4, tmp=80):\n",
    "    prs = np.load(name + '.npy', allow_pickle=True)\n",
    "    \n",
    "    prs = np.array(np.round(prs, decimals=0), dtype=int)\n",
    "    prs = np.squeeze(prs)\n",
    "    prs = (prs / prs.max()) * 97\n",
    "    print(prs.shape)\n",
    "    prs = np.array(prs // (128//16) * (128//16))\n",
    "    prs = prs[:,:,:,:88]\n",
    "    prs = np.vstack(prs)\n",
    "    # pr = prs[0]\n",
    "    # pr : [sequence_len, pitch_dim] :0~127\n",
    "    # pr = np.vstack(prs[:,:5])\n",
    "\n",
    "    pr_dict = {\"piano\" : np.squeeze(prs)}\n",
    "\n",
    "    write_midi(pr_dict, tpb, name + \".mid\", tempo=tmp)"
   ]
  },
  {
   "cell_type": "code",
   "execution_count": 533,
   "metadata": {},
   "outputs": [
    {
     "name": "stdout",
     "output_type": "stream",
     "text": [
      "(10, 20, 64, 90)\n"
     ]
    }
   ],
   "source": [
    "np_to_midi('outputs/MAESTRO_64_VAE_num_particle_8/generated_samples')"
   ]
  },
  {
   "cell_type": "code",
   "execution_count": 69,
   "metadata": {},
   "outputs": [],
   "source": []
  },
  {
   "cell_type": "code",
   "execution_count": 70,
   "metadata": {
    "collapsed": true,
    "jupyter": {
     "outputs_hidden": true
    }
   },
   "outputs": [
    {
     "data": {
      "text/plain": [
       "83272"
      ]
     },
     "execution_count": 70,
     "metadata": {},
     "output_type": "execute_result"
    }
   ],
   "source": []
  },
  {
   "cell_type": "code",
   "execution_count": 71,
   "metadata": {},
   "outputs": [
    {
     "data": {
      "text/plain": [
       "83272"
      ]
     },
     "execution_count": 71,
     "metadata": {},
     "output_type": "execute_result"
    }
   ],
   "source": []
  },
  {
   "cell_type": "code",
   "execution_count": null,
   "metadata": {},
   "outputs": [],
   "source": []
  }
 ],
 "metadata": {
  "kernelspec": {
   "display_name": "Python 3",
   "language": "python",
   "name": "python3"
  },
  "language_info": {
   "codemirror_mode": {
    "name": "ipython",
    "version": 3
   },
   "file_extension": ".py",
   "mimetype": "text/x-python",
   "name": "python",
   "nbconvert_exporter": "python",
   "pygments_lexer": "ipython3",
   "version": "3.5.6"
  }
 },
 "nbformat": 4,
 "nbformat_minor": 4
}
